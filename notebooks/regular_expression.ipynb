{
 "cells": [
  {
   "cell_type": "markdown",
   "metadata": {},
   "source": [
    "# Regular Expression"
   ]
  },
  {
   "cell_type": "markdown",
   "metadata": {},
   "source": [
    "| word          | description               | example | match  |\n",
    "| ------------- |:-------------------------:|:-------:|-------:|\n",
    "| \\d            | any number                |         |\n",
    "| \\D            | except number             |         |   \n",
    "| \\s            | any blank wrod            |         |  \n",
    "| \\S            | except blank              |    \t  |\n",
    "| \\w            | any alphanumeric          |         | \t\n",
    "| \\W            | any blank wrod            |         |\n",
    "| \\A            | start of words            |         |\n",
    "| \\Z            | end of words              |         |\n",
    "| .             | any one word              | a.c     | aac, abc\n",
    "| ^             | start of words            | ^abc    | abca, abcdef\n",
    "| \\$            | end of words              | abc$    | defabc, ababc\n",
    "| *             | repeat zero or more times | ab*     | a, ab, abb\n",
    "| +             | repeat one or more times  | ab+     | ab, abb, abbb\n",
    "| ?             | zero or one time          | ab?     | a, ab, abb\n",
    "| {m}           | repeat n times            | a{3}    | aaa\n",
    "| {m,n}         | repeat from m to n        | a{2,4}  | aa, aaa, aaaa\n",
    "| vertical line | and set                   |         |\n",
    "| []            | set                       |         |\n",
    "| ()            | grouping                  | (abc)+  | abc, abcabc "
   ]
  },
  {
   "cell_type": "code",
   "execution_count": 44,
   "metadata": {},
   "outputs": [],
   "source": [
    "import re\n",
    "import pandas as pd\n",
    "from typing import Iterable, Sequence, List, Dict"
   ]
  },
  {
   "cell_type": "markdown",
   "metadata": {},
   "source": [
    "## Methods"
   ]
  },
  {
   "cell_type": "code",
   "execution_count": 13,
   "metadata": {},
   "outputs": [],
   "source": [
    "def re_composition(content: str, pattern: str) -> dict:\n",
    "    \"\"\"\n",
    "    match method determines at the biginning of the string.\n",
    "    search method determines at the any position of the string.\n",
    "    findall method finds all substrings matching the regex and returns as a list.\n",
    "    finditer method is same as above except returns as a iterator.\n",
    "    \"\"\"\n",
    "    result = {\n",
    "        'match': re.match(pattern, content),\n",
    "        'search': re.search(pattern, content),\n",
    "        'findall': re.findall(pattern, content),\n",
    "        'finditer': re.finditer(pattern, content)\n",
    "    }\n",
    "    return result"
   ]
  },
  {
   "cell_type": "code",
   "execution_count": 18,
   "metadata": {},
   "outputs": [],
   "source": [
    "def re_compositions(contents: list, pattern: str) -> list:\n",
    "    objs = []\n",
    "    for content in contents:\n",
    "        objs.append(re_composition(content, pattern))\n",
    "    return objs"
   ]
  },
  {
   "cell_type": "code",
   "execution_count": 19,
   "metadata": {},
   "outputs": [],
   "source": [
    "def match_or_search_result(match_or_search_result) -> dict:\n",
    "    if match_or_search_result:\n",
    "        return {\n",
    "            'object': match_or_search_result,\n",
    "            'start': match_or_search_result.start(),\n",
    "            'end': match_or_search_result.end(),\n",
    "            'span': match_or_search_result.span(),\n",
    "            'group': match_or_search_result.group()\n",
    "        }\n",
    "    else:\n",
    "        return {\n",
    "            'object': None,\n",
    "            'start': None,\n",
    "            'end': None,\n",
    "            'span': None,\n",
    "            'group': None\n",
    "        }"
   ]
  },
  {
   "cell_type": "markdown",
   "metadata": {},
   "source": [
    "## Module arguments"
   ]
  },
  {
   "cell_type": "code",
   "execution_count": 4,
   "metadata": {},
   "outputs": [],
   "source": [
    "content = 'nchikun@gmail.com'"
   ]
  },
  {
   "cell_type": "code",
   "execution_count": 29,
   "metadata": {},
   "outputs": [],
   "source": [
    "pattern = 'gmail'"
   ]
  },
  {
   "cell_type": "code",
   "execution_count": 30,
   "metadata": {},
   "outputs": [
    {
     "data": {
      "text/html": [
       "<div>\n",
       "<style scoped>\n",
       "    .dataframe tbody tr th:only-of-type {\n",
       "        vertical-align: middle;\n",
       "    }\n",
       "\n",
       "    .dataframe tbody tr th {\n",
       "        vertical-align: top;\n",
       "    }\n",
       "\n",
       "    .dataframe thead th {\n",
       "        text-align: right;\n",
       "    }\n",
       "</style>\n",
       "<table border=\"1\" class=\"dataframe\">\n",
       "  <thead>\n",
       "    <tr style=\"text-align: right;\">\n",
       "      <th></th>\n",
       "      <th>user_id</th>\n",
       "      <th>email</th>\n",
       "      <th>referrer</th>\n",
       "      <th>url</th>\n",
       "    </tr>\n",
       "  </thead>\n",
       "  <tbody>\n",
       "    <tr>\n",
       "      <th>0</th>\n",
       "      <td>001</td>\n",
       "      <td>donkonchi@gmail.com</td>\n",
       "      <td>http://www.other.com/path1/index.php?k1=v1&amp;k2=...</td>\n",
       "      <td>http://www.example.com/video/detail?id=001</td>\n",
       "    </tr>\n",
       "    <tr>\n",
       "      <th>1</th>\n",
       "      <td>002</td>\n",
       "      <td>nchikun@yahoo.co.jp</td>\n",
       "      <td>http://www.othre.net/path1/index.php?k1=v1&amp;k2=...</td>\n",
       "      <td>http://www.example.com/video#ref</td>\n",
       "    </tr>\n",
       "    <tr>\n",
       "      <th>2</th>\n",
       "      <td>003</td>\n",
       "      <td>nchikun[at]gmail.com</td>\n",
       "      <td>https://www.other.com/</td>\n",
       "      <td>https://www.example.com./book/detail?id=002</td>\n",
       "    </tr>\n",
       "  </tbody>\n",
       "</table>\n",
       "</div>"
      ],
      "text/plain": [
       "  user_id                 email  \\\n",
       "0     001   donkonchi@gmail.com   \n",
       "1     002   nchikun@yahoo.co.jp   \n",
       "2     003  nchikun[at]gmail.com   \n",
       "\n",
       "                                            referrer  \\\n",
       "0  http://www.other.com/path1/index.php?k1=v1&k2=...   \n",
       "1  http://www.othre.net/path1/index.php?k1=v1&k2=...   \n",
       "2                             https://www.other.com/   \n",
       "\n",
       "                                           url  \n",
       "0   http://www.example.com/video/detail?id=001  \n",
       "1             http://www.example.com/video#ref  \n",
       "2  https://www.example.com./book/detail?id=002  "
      ]
     },
     "execution_count": 30,
     "metadata": {},
     "output_type": "execute_result"
    }
   ],
   "source": [
    "df_contents = pd.DataFrame({\n",
    "    'user_id': [\n",
    "        '001',\n",
    "        '002',\n",
    "        '003'\n",
    "    ],\n",
    "    'email': [\n",
    "        'donkonchi@gmail.com',\n",
    "        'nchikun@yahoo.co.jp',\n",
    "        'nchikun[at]gmail.com'\n",
    "    ],\n",
    "    'referrer': [\n",
    "        'http://www.other.com/path1/index.php?k1=v1&k2=v2#Ref1',\n",
    "        'http://www.othre.net/path1/index.php?k1=v1&k2=v2#Ref1',\n",
    "        'https://www.other.com/'\n",
    "    ],\n",
    "    'url': [\n",
    "        'http://www.example.com/video/detail?id=001',\n",
    "        'http://www.example.com/video#ref',\n",
    "        'https://www.example.com./book/detail?id=002'\n",
    "    ]\n",
    "})\n",
    "df_contents.head()"
   ]
  },
  {
   "cell_type": "markdown",
   "metadata": {},
   "source": [
    "## Output"
   ]
  },
  {
   "cell_type": "code",
   "execution_count": 37,
   "metadata": {},
   "outputs": [
    {
     "data": {
      "text/html": [
       "<div>\n",
       "<style scoped>\n",
       "    .dataframe tbody tr th:only-of-type {\n",
       "        vertical-align: middle;\n",
       "    }\n",
       "\n",
       "    .dataframe tbody tr th {\n",
       "        vertical-align: top;\n",
       "    }\n",
       "\n",
       "    .dataframe thead th {\n",
       "        text-align: right;\n",
       "    }\n",
       "</style>\n",
       "<table border=\"1\" class=\"dataframe\">\n",
       "  <thead>\n",
       "    <tr style=\"text-align: right;\">\n",
       "      <th></th>\n",
       "      <th>user_id</th>\n",
       "      <th>email</th>\n",
       "      <th>referrer</th>\n",
       "      <th>url</th>\n",
       "      <th>gmail_position</th>\n",
       "    </tr>\n",
       "  </thead>\n",
       "  <tbody>\n",
       "    <tr>\n",
       "      <th>0</th>\n",
       "      <td>001</td>\n",
       "      <td>donkonchi@gmail.com</td>\n",
       "      <td>http://www.other.com/path1/index.php?k1=v1&amp;k2=...</td>\n",
       "      <td>http://www.example.com/video/detail?id=001</td>\n",
       "      <td>10.0</td>\n",
       "    </tr>\n",
       "    <tr>\n",
       "      <th>1</th>\n",
       "      <td>002</td>\n",
       "      <td>nchikun@yahoo.co.jp</td>\n",
       "      <td>http://www.othre.net/path1/index.php?k1=v1&amp;k2=...</td>\n",
       "      <td>http://www.example.com/video#ref</td>\n",
       "      <td>NaN</td>\n",
       "    </tr>\n",
       "    <tr>\n",
       "      <th>2</th>\n",
       "      <td>003</td>\n",
       "      <td>nchikun[at]gmail.com</td>\n",
       "      <td>https://www.other.com/</td>\n",
       "      <td>https://www.example.com./book/detail?id=002</td>\n",
       "      <td>11.0</td>\n",
       "    </tr>\n",
       "  </tbody>\n",
       "</table>\n",
       "</div>"
      ],
      "text/plain": [
       "  user_id                 email  \\\n",
       "0     001   donkonchi@gmail.com   \n",
       "1     002   nchikun@yahoo.co.jp   \n",
       "2     003  nchikun[at]gmail.com   \n",
       "\n",
       "                                            referrer  \\\n",
       "0  http://www.other.com/path1/index.php?k1=v1&k2=...   \n",
       "1  http://www.othre.net/path1/index.php?k1=v1&k2=...   \n",
       "2                             https://www.other.com/   \n",
       "\n",
       "                                           url  gmail_position  \n",
       "0   http://www.example.com/video/detail?id=001            10.0  \n",
       "1             http://www.example.com/video#ref             NaN  \n",
       "2  https://www.example.com./book/detail?id=002            11.0  "
      ]
     },
     "execution_count": 37,
     "metadata": {},
     "output_type": "execute_result"
    }
   ],
   "source": [
    "df_gmail_start = df_contents.copy()\n",
    "df_gmail_start['gmail_position'] = [\n",
    "    match_or_search_result(i['search'])['start']\n",
    "    for i in re_compositions(df_contents['email'], pattern)\n",
    "]\n",
    "df_gmail_start"
   ]
  },
  {
   "cell_type": "code",
   "execution_count": 7,
   "metadata": {},
   "outputs": [
    {
     "name": "stdout",
     "output_type": "stream",
     "text": [
      "None\n",
      "None\n",
      "None\n",
      "None\n",
      "None\n"
     ]
    }
   ],
   "source": [
    "# match\n",
    "mr = match_or_search_result(comp['match'])\n",
    "print(mr['object'])\n",
    "print(mr['start'])\n",
    "print(mr['end'])\n",
    "print(mr['span'])\n",
    "print(mr['group'])"
   ]
  },
  {
   "cell_type": "code",
   "execution_count": 8,
   "metadata": {},
   "outputs": [
    {
     "name": "stdout",
     "output_type": "stream",
     "text": [
      "<re.Match object; span=(3, 4), match='i'>\n",
      "3\n",
      "4\n",
      "(3, 4)\n",
      "i\n"
     ]
    }
   ],
   "source": [
    "# search\n",
    "sr = match_or_search_result(comp['search'])\n",
    "print(sr['object'])\n",
    "print(sr['start'])\n",
    "print(sr['end'])\n",
    "print(sr['span'])\n",
    "print(sr['group'])"
   ]
  },
  {
   "cell_type": "code",
   "execution_count": 9,
   "metadata": {},
   "outputs": [
    {
     "data": {
      "text/plain": [
       "['i', 'i']"
      ]
     },
     "execution_count": 9,
     "metadata": {},
     "output_type": "execute_result"
    }
   ],
   "source": [
    "# findall (return list matching patterns)\n",
    "comp['findall']"
   ]
  },
  {
   "cell_type": "code",
   "execution_count": 10,
   "metadata": {},
   "outputs": [
    {
     "name": "stdout",
     "output_type": "stream",
     "text": [
      "<re.Match object; span=(3, 4), match='i'>\n",
      "3\n",
      "4\n",
      "(3, 4)\n",
      "i\n",
      "<re.Match object; span=(11, 12), match='i'>\n",
      "11\n",
      "12\n",
      "(11, 12)\n",
      "i\n"
     ]
    }
   ],
   "source": [
    "# finditer (return matching objects as iteration)\n",
    "for i in comp['finditer']:\n",
    "    mr = match_or_search_result(i)\n",
    "    print(mr['object'])\n",
    "    print(mr['start'])\n",
    "    print(mr['end'])\n",
    "    print(mr['span'])\n",
    "    print(mr['group'])"
   ]
  },
  {
   "cell_type": "code",
   "execution_count": null,
   "metadata": {},
   "outputs": [],
   "source": []
  }
 ],
 "metadata": {
  "kernelspec": {
   "display_name": "Python 3",
   "language": "python",
   "name": "python3"
  },
  "language_info": {
   "codemirror_mode": {
    "name": "ipython",
    "version": 3
   },
   "file_extension": ".py",
   "mimetype": "text/x-python",
   "name": "python",
   "nbconvert_exporter": "python",
   "pygments_lexer": "ipython3",
   "version": "3.7.0"
  }
 },
 "nbformat": 4,
 "nbformat_minor": 2
}
